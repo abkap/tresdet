{
 "cells": [
  {
   "cell_type": "code",
   "execution_count": 19,
   "metadata": {
    "slideshow": {
     "slide_type": "slide"
    }
   },
   "outputs": [
    {
     "name": "stdout",
     "output_type": "stream",
     "text": [
      "started\n"
     ]
    }
   ],
   "source": [
    "import tensorflow as tf \n",
    "from tensorflow import keras \n",
    "import numpy as np \n",
    "import matplotlib.pyplot as plt \n",
    "import cv2\n",
    "from os import path \n",
    "print(\"started\")"
   ]
  },
  {
   "cell_type": "code",
   "execution_count": 20,
   "metadata": {},
   "outputs": [
    {
     "name": "stdout",
     "output_type": "stream",
     "text": [
      "/mnt/e/dataset/main_project/datasets/elephant\n",
      "/mnt/e/dataset/main_project/datasets/wild_boar\n",
      "/mnt/e/dataset/main_project/datasets/bird\n"
     ]
    }
   ],
   "source": [
    "#datasets_folder = \"E:\\\\dataset\\\\main_project\\\\datasets\"\n",
    "datasets_folder = \"/mnt/e/dataset/main_project/datasets\"\n",
    "elephant_dataset = path.join(datasets_folder,\"elephant\")\n",
    "wild_board_dataset = path.join(datasets_folder,\"wild_boar\")\n",
    "bird_dataset = path.join(datasets_folder,\"bird\")\n",
    "\n",
    "print(elephant_dataset)\n",
    "print(wild_board_dataset)\n",
    "print(bird_dataset)\n",
    "\n",
    "batch_size = 32\n",
    "img_height = 180\n",
    "img_width = 180"
   ]
  },
  {
   "cell_type": "code",
   "execution_count": 21,
   "metadata": {},
   "outputs": [
    {
     "name": "stdout",
     "output_type": "stream",
     "text": [
      "Found 9146 files belonging to 4 classes.\n",
      "Using 7317 files for training.\n"
     ]
    }
   ],
   "source": [
    "color_mode = \"grayscale\"\n",
    "train_ds = keras.utils.image_dataset_from_directory(\n",
    "    datasets_folder,\n",
    "    validation_split=0.2,\n",
    "    subset=\"training\",\n",
    "    seed=123,\n",
    "    color_mode=color_mode,\n",
    "    image_size=(img_height,img_width),\n",
    "    batch_size=batch_size\n",
    ")"
   ]
  },
  {
   "cell_type": "code",
   "execution_count": 25,
   "metadata": {},
   "outputs": [
    {
     "name": "stdout",
     "output_type": "stream",
     "text": [
      "Found 9146 files belonging to 4 classes.\n",
      "Using 1829 files for validation.\n"
     ]
    }
   ],
   "source": [
    "\n",
    "val_ds = keras.utils.image_dataset_from_directory(\n",
    "    datasets_folder,\n",
    "    validation_split=0.2,\n",
    "    subset=\"validation\",\n",
    "    seed=123,\n",
    "    color_mode=color_mode,\n",
    "    image_size=(img_height,img_width),\n",
    "    batch_size=batch_size\n",
    ")"
   ]
  },
  {
   "cell_type": "code",
   "execution_count": 23,
   "metadata": {},
   "outputs": [
    {
     "name": "stdout",
     "output_type": "stream",
     "text": [
      "finished\n"
     ]
    }
   ],
   "source": [
    "AUTOTUNE = tf.data.AUTOTUNE \n",
    "train_ds = train_ds.cache().shuffle(1000).prefetch(buffer_size=AUTOTUNE)\n",
    "val_ds = val_ds.cache().prefetch(buffer_size=AUTOTUNE)\n",
    "print(\"finished\")"
   ]
  },
  {
   "cell_type": "code",
   "execution_count": 27,
   "metadata": {},
   "outputs": [
    {
     "ename": "AttributeError",
     "evalue": "'PrefetchDataset' object has no attribute 'class_names'",
     "output_type": "error",
     "traceback": [
      "\u001b[0;31m---------------------------------------------------------------------------\u001b[0m",
      "\u001b[0;31mAttributeError\u001b[0m                            Traceback (most recent call last)",
      "Cell \u001b[0;32mIn[27], line 1\u001b[0m\n\u001b[0;32m----> 1\u001b[0m class_names \u001b[38;5;241m=\u001b[39m \u001b[43mtrain_ds\u001b[49m\u001b[38;5;241;43m.\u001b[39;49m\u001b[43mclass_names\u001b[49m \n\u001b[1;32m      2\u001b[0m \u001b[38;5;28mprint\u001b[39m(class_names)\n\u001b[1;32m      3\u001b[0m class_len \u001b[38;5;241m=\u001b[39m \u001b[38;5;28mlen\u001b[39m(class_names)\n",
      "\u001b[0;31mAttributeError\u001b[0m: 'PrefetchDataset' object has no attribute 'class_names'"
     ]
    }
   ],
   "source": [
    "class_names = train_ds.class_names \n",
    "print(class_names)\n",
    "class_len = len(class_names)\n",
    "\n",
    "plt.figure(figsize=(10, 10))\n",
    "for images, labels in train_ds.take(1):\n",
    "  for i in range(9):\n",
    "    ax = plt.subplot(3, 3, i + 1)\n",
    "    plt.imshow(images[i].numpy().astype(\"uint8\"))\n",
    "    plt.title(class_names[labels[i]])\n",
    "    plt.axis(\"off\")\n",
    "    \n",
    "print(\"finished\")\n",
    "\n",
    "\n",
    "\n",
    "\n"
   ]
  },
  {
   "cell_type": "code",
   "execution_count": null,
   "metadata": {},
   "outputs": [],
   "source": [
    "model = keras.models.Sequential([\n",
    "    keras.layers.Rescaling(1./255, input_shape=(img_height,img_width,1)),\n",
    "    keras.layers.Conv2D(16,3, activation=\"relu\"),\n",
    "    keras.layers.MaxPooling2D(),\n",
    "    keras.layers.Conv2D(32,3, activation=\"relu\"),\n",
    "    keras.layers.MaxPooling2D(),\n",
    "    keras.layers.Conv2D(64,3, activation=\"relu\"),\n",
    "    keras.layers.MaxPooling2D(),\n",
    "    keras.layers.Flatten(),\n",
    "    keras.layers.Dense(128,activation='relu'),\n",
    "    keras.layers.Dense(class_len)\n",
    "\n",
    "])\n",
    "\n",
    "model.compile(optimizer=\"adam\",loss=tf.keras.losses.SparseCategoricalCrossentropy(from_logits=True),\n",
    "            metrics=['accuracy'])\n",
    "\n",
    "model.summary()"
   ]
  },
  {
   "cell_type": "code",
   "execution_count": null,
   "metadata": {},
   "outputs": [],
   "source": [
    "epochs =  10\n",
    "history = model.fit(train_ds,validation_data=val_ds,epochs=epochs , verbose=1)"
   ]
  },
  {
   "cell_type": "code",
   "execution_count": null,
   "metadata": {},
   "outputs": [],
   "source": [
    "acc = history.history['val_accuracy']\n",
    "print(acc)\n",
    "final_acc = acc[len(acc) - 1]\n",
    "\n",
    "model.save(f\"model-witgpu-{round(final_acc,4)}-(h-det).h5\")"
   ]
  },
  {
   "cell_type": "code",
   "execution_count": null,
   "metadata": {},
   "outputs": [],
   "source": [
    "img = tf.keras.utils.load_img(\n",
    "    \"test/h1.png\",\n",
    "    target_size = (img_height,img_width),\n",
    "    color_mode = color_mode \n",
    ")\n",
    "\n",
    "\n",
    "img_array = tf.keras.utils.img_to_array(img)\n",
    "\n",
    "img_array = tf.expand_dims(img_array, 0) # Create a batch\n",
    "predictions = model.predict(img_array)\n",
    "score = tf.nn.softmax(predictions[0])\n",
    "\n",
    "print(f\"animal : {class_names[0]} | accuracy :  {round(np.array(score)[0] * 100,2)}\")\n",
    "print(f\"animal : {class_names[1]} | accuracy :  {round(np.array(score)[1] * 100,2)}\")\n",
    "print(f\"animal : {class_names[2]} | accuracy :  {round(np.array(score)[2] * 100,2)}\")\n",
    "if len(class_names) > 3 :\n",
    "    print(f\"animal : {class_names[3]} | accuracy :  {round(np.array(score)[3] * 100,2)}\")\n",
    "plt.imshow(img)\n"
   ]
  },
  {
   "cell_type": "code",
   "execution_count": null,
   "metadata": {},
   "outputs": [],
   "source": [
    "\n",
    "\n"
   ]
  }
 ],
 "metadata": {
  "kernelspec": {
   "display_name": "Python 3 (ipykernel)",
   "language": "python",
   "name": "python3"
  },
  "language_info": {
   "codemirror_mode": {
    "name": "ipython",
    "version": 3
   },
   "file_extension": ".py",
   "mimetype": "text/x-python",
   "name": "python",
   "nbconvert_exporter": "python",
   "pygments_lexer": "ipython3",
   "version": "3.9.16"
  },
  "vscode": {
   "interpreter": {
    "hash": "dd25f48af7434f441074c103d33cc955d756c89140f9533c523cd1385ae56b15"
   }
  }
 },
 "nbformat": 4,
 "nbformat_minor": 2
}
