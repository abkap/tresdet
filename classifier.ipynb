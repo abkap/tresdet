{
 "cells": [
  {
   "cell_type": "code",
   "execution_count": null,
   "metadata": {
    "slideshow": {
     "slide_type": "slide"
    }
   },
   "outputs": [],
   "source": [
    "import tensorflow as tf \n",
    "from tensorflow import keras \n",
    "import numpy as np \n",
    "import matplotlib.pyplot as plt \n",
    "import cv2\n",
    "from os import path \n",
    "import time\n",
    "print(\"started\")"
   ]
  },
  {
   "cell_type": "code",
   "execution_count": null,
   "metadata": {},
   "outputs": [],
   "source": [
    "# datasets_folder = \"E:\\\\dataset\\\\main_project\\\\datasets\"\n",
    "datasets_folder = \"/media/abk/DATA 2/dataset/main_project_updated/datasets\"\n",
    "# elephant_dataset = path.join(datasets_folder,\"elephant\")\n",
    "# wild_board_dataset = path.join(datasets_folder,\"wild_boar\")\n",
    "# bird_dataset = path.join(datasets_folder,\"bird\")\n",
    "\n",
    "\n",
    "\n",
    "batch_size = 64\n",
    "img_height = 180\n",
    "img_width = 180"
   ]
  },
  {
   "cell_type": "code",
   "execution_count": null,
   "metadata": {},
   "outputs": [],
   "source": [
    "color_mode = \"grayscale\"\n",
    "train_ds = keras.utils.image_dataset_from_directory(\n",
    "    datasets_folder,\n",
    "    validation_split=0.2,\n",
    "    subset=\"training\",\n",
    "    seed=123,\n",
    "    color_mode=color_mode,\n",
    "    image_size=(img_height,img_width),\n",
    "    batch_size=batch_size\n",
    ")"
   ]
  },
  {
   "cell_type": "code",
   "execution_count": null,
   "metadata": {},
   "outputs": [],
   "source": [
    "\n",
    "val_ds = keras.utils.image_dataset_from_directory(\n",
    "    datasets_folder,\n",
    "    validation_split=0.2,\n",
    "    subset=\"validation\",\n",
    "    seed=123,\n",
    "    color_mode=color_mode,\n",
    "    image_size=(img_height,img_width),\n",
    "    batch_size=batch_size\n",
    ")"
   ]
  },
  {
   "cell_type": "code",
   "execution_count": null,
   "metadata": {},
   "outputs": [],
   "source": [
    "class_names = train_ds.class_names \n",
    "print(class_names)\n",
    "class_len = len(class_names)\n",
    "\n",
    "plt.figure(figsize=(10, 10))\n",
    "for images, labels in train_ds.take(1):\n",
    "  for i in range(9):\n",
    "    ax = plt.subplot(3, 3, i + 1)\n",
    "    plt.imshow(images[i].numpy().astype(\"uint8\"))\n",
    "    plt.title(class_names[labels[i]])\n",
    "    plt.axis(\"off\")\n",
    "    \n",
    "print(\"finished\")\n",
    "\n",
    "\n",
    "\n",
    "\n"
   ]
  },
  {
   "cell_type": "code",
   "execution_count": null,
   "metadata": {},
   "outputs": [],
   "source": [
    "AUTOTUNE = tf.data.AUTOTUNE \n",
    "\n",
    "train_ds = train_ds.cache().shuffle(1000).prefetch(buffer_size=AUTOTUNE)\n",
    "val_ds = val_ds.cache().prefetch(buffer_size=AUTOTUNE)\n",
    "print(\"finished\")\n",
    "\n"
   ]
  },
  {
   "cell_type": "code",
   "execution_count": null,
   "metadata": {},
   "outputs": [],
   "source": [
    "data_augmentation = tf.keras.Sequential(\n",
    "  [\n",
    "    tf.keras.layers.RandomFlip(\"horizontal\",\n",
    "                      input_shape=(img_height,\n",
    "                                  img_width,\n",
    "                                  1)),\n",
    "    tf.keras.layers.RandomRotation(0.4),\n",
    "    tf.keras.layers.RandomZoom(0.1),\n",
    "  ]\n",
    ")"
   ]
  },
  {
   "cell_type": "code",
   "execution_count": null,
   "metadata": {},
   "outputs": [],
   "source": [
    "model = keras.models.Sequential([\n",
    "    # data_augmentation,\n",
    "    keras.layers.Rescaling(1./255, input_shape=(img_height,img_width,1)),\n",
    "    keras.layers.Conv2D(16,3, activation=\"relu\"),\n",
    "    keras.layers.MaxPooling2D(),\n",
    "    keras.layers.Conv2D(32,3, activation=\"relu\"),\n",
    "    keras.layers.MaxPooling2D(),\n",
    "    keras.layers.Conv2D(64,3, activation=\"relu\"),\n",
    "    keras.layers.MaxPooling2D(),\n",
    "    keras.layers.Flatten(),\n",
    "    keras.layers.Dense(128,activation='relu'),\n",
    "    keras.layers.Dense(class_len , activation='softmax')\n",
    "\n",
    "])\n",
    "\n",
    "model.compile(optimizer=\"adam\",loss=tf.keras.losses.SparseCategoricalCrossentropy(from_logits=True),\n",
    "            metrics=['accuracy'])\n",
    "\n",
    "model.summary()"
   ]
  },
  {
   "cell_type": "code",
   "execution_count": null,
   "metadata": {},
   "outputs": [],
   "source": [
    "epochs =  45\n",
    "history = model.fit(train_ds,validation_data=val_ds,epochs=epochs , verbose=1)"
   ]
  },
  {
   "cell_type": "code",
   "execution_count": null,
   "metadata": {},
   "outputs": [],
   "source": [
    "acc = history.history['val_accuracy']\n",
    "print(acc)\n",
    "final_acc = acc[len(acc) - 1]\n",
    "ts = time.time()\n",
    "\n",
    "model.save(f\"m-esp32(u-1,e-{epochs})-{round(final_acc,4)}-(h-det,ud)(added-bird-datas).h5\")"
   ]
  },
  {
   "cell_type": "code",
   "execution_count": null,
   "metadata": {},
   "outputs": [],
   "source": [
    "img = tf.keras.utils.load_img(\n",
    "    \"test/b1.jpg\",\n",
    "    target_size = (img_height,img_width),\n",
    "    color_mode = color_mode \n",
    ")\n",
    "\n",
    "\n",
    "img_array = tf.keras.utils.img_to_array(img)\n",
    "\n",
    "img_array = tf.expand_dims(img_array, 0) # Create a batch\n",
    "predictions = model.predict(img_array)\n",
    "\n",
    "# score = tf.nn.softmax(predictions[0])\n",
    "score = predictions[0]\n",
    "\n",
    "print(f\"animal : {class_names[0]} | accuracy :  {round(np.array(score)[0] * 100,2)}\")\n",
    "print(f\"animal : {class_names[1]} | accuracy :  {round(np.array(score)[1] * 100,2)}\")\n",
    "print(f\"animal : {class_names[2]} | accuracy :  {round(np.array(score)[2] * 100,2)}\")\n",
    "if len(class_names) > 3 :\n",
    "    print(f\"animal : {class_names[3]} | accuracy :  {round(np.array(score)[3] * 100,2)}\")\n",
    "if len(class_names) > 4 :\n",
    "    print(f\"animal : {class_names[4]} | accuracy :  {round(np.array(score)[4] * 100,2)}\")\n",
    "plt.imshow(img)\n"
   ]
  },
  {
   "cell_type": "code",
   "execution_count": null,
   "metadata": {},
   "outputs": [],
   "source": [
    "\n",
    "\n"
   ]
  }
 ],
 "metadata": {
  "kernelspec": {
   "display_name": "tf",
   "language": "python",
   "name": "python3"
  },
  "language_info": {
   "codemirror_mode": {
    "name": "ipython",
    "version": 3
   },
   "file_extension": ".py",
   "mimetype": "text/x-python",
   "name": "python",
   "nbconvert_exporter": "python",
   "pygments_lexer": "ipython3",
   "version": "3.9.16"
  },
  "vscode": {
   "interpreter": {
    "hash": "8ce6e175c1b6d96e64c5760f0d9111ce9fbf552fdd36bef8d716dcbbe759a587"
   }
  }
 },
 "nbformat": 4,
 "nbformat_minor": 2
}
