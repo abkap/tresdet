{
 "cells": [
  {
   "cell_type": "code",
   "execution_count": 3,
   "metadata": {},
   "outputs": [
    {
     "name": "stderr",
     "output_type": "stream",
     "text": [
      "c:\\Users\\apabh\\AppData\\Local\\Programs\\Python\\Python310\\lib\\site-packages\\torchvision\\models\\detection\\anchor_utils.py:63: UserWarning: Failed to initialize NumPy: module compiled against API version 0x10 but this version of numpy is 0xe (Triggered internally at ..\\torch\\csrc\\utils\\tensor_numpy.cpp:77.)\n",
      "  device: torch.device = torch.device(\"cpu\"),\n"
     ]
    },
    {
     "ename": "RuntimeError",
     "evalue": "You are trying to use a Tensorflow model with ImageAI. ImageAI now uses PyTorch as backed as from version 3.0.2 . If you want to use the Tensorflow models or a customly trained '.h5' model, install ImageAI 2.1.6 or earlier. To use the latest Pytorch models, see the documentation in https://imageai.readthedocs.io/",
     "output_type": "error",
     "traceback": [
      "\u001b[1;31m---------------------------------------------------------------------------\u001b[0m",
      "\u001b[1;31mRuntimeError\u001b[0m                              Traceback (most recent call last)",
      "\u001b[1;32me:\\dataset\\main_project\\object_detection.ipynb Cell 1\u001b[0m in \u001b[0;36m<cell line: 7>\u001b[1;34m()\u001b[0m\n\u001b[0;32m      <a href='vscode-notebook-cell:/e%3A/dataset/main_project/object_detection.ipynb#W0sZmlsZQ%3D%3D?line=4'>5</a>\u001b[0m detector \u001b[39m=\u001b[39m ObjectDetection()\n\u001b[0;32m      <a href='vscode-notebook-cell:/e%3A/dataset/main_project/object_detection.ipynb#W0sZmlsZQ%3D%3D?line=5'>6</a>\u001b[0m detector\u001b[39m.\u001b[39msetModelTypeAsRetinaNet()\n\u001b[1;32m----> <a href='vscode-notebook-cell:/e%3A/dataset/main_project/object_detection.ipynb#W0sZmlsZQ%3D%3D?line=6'>7</a>\u001b[0m detector\u001b[39m.\u001b[39;49msetModelPath(os\u001b[39m.\u001b[39;49mpath\u001b[39m.\u001b[39;49mjoin(current_path,\u001b[39m\"\u001b[39;49m\u001b[39mtrained_models/model-0.8748-(h-det).h5\u001b[39;49m\u001b[39m\"\u001b[39;49m))\n\u001b[0;32m      <a href='vscode-notebook-cell:/e%3A/dataset/main_project/object_detection.ipynb#W0sZmlsZQ%3D%3D?line=7'>8</a>\u001b[0m detector\u001b[39m.\u001b[39mloadModel()\n\u001b[0;32m      <a href='vscode-notebook-cell:/e%3A/dataset/main_project/object_detection.ipynb#W0sZmlsZQ%3D%3D?line=8'>9</a>\u001b[0m detections \u001b[39m=\u001b[39m detector\u001b[39m.\u001b[39mdetectObjectsFromImage(input_image\u001b[39m=\u001b[39mos\u001b[39m.\u001b[39mpath\u001b[39m.\u001b[39mjoin(current_path , \u001b[39m\"\u001b[39m\u001b[39mtest/boar.jpg\u001b[39m\u001b[39m\"\u001b[39m), output_image_path\u001b[39m=\u001b[39mos\u001b[39m.\u001b[39mpath\u001b[39m.\u001b[39mjoin(current_path , \u001b[39m\"\u001b[39m\u001b[39mimagenew.jpg\u001b[39m\u001b[39m\"\u001b[39m))\n",
      "File \u001b[1;32mc:\\Users\\apabh\\AppData\\Local\\Programs\\Python\\Python310\\lib\\site-packages\\imageai\\Detection\\__init__.py:206\u001b[0m, in \u001b[0;36mObjectDetection.setModelPath\u001b[1;34m(self, path)\u001b[0m\n\u001b[0;32m    199\u001b[0m \u001b[39m\"\"\"\u001b[39;00m\n\u001b[0;32m    200\u001b[0m \u001b[39m'setModelPath()' function is required and is used to set the file path to the model adopted from the list of the\u001b[39;00m\n\u001b[0;32m    201\u001b[0m \u001b[39mavailable 3 model types. The model path must correspond to the model type.\u001b[39;00m\n\u001b[0;32m    202\u001b[0m \u001b[39m:param model_path:\u001b[39;00m\n\u001b[0;32m    203\u001b[0m \u001b[39m:return:\u001b[39;00m\n\u001b[0;32m    204\u001b[0m \u001b[39m\"\"\"\u001b[39;00m\n\u001b[0;32m    205\u001b[0m \u001b[39mif\u001b[39;00m os\u001b[39m.\u001b[39mpath\u001b[39m.\u001b[39misfile(path):\n\u001b[1;32m--> 206\u001b[0m     extension_check(path)\n\u001b[0;32m    207\u001b[0m     \u001b[39mself\u001b[39m\u001b[39m.\u001b[39m__model_path \u001b[39m=\u001b[39m path\n\u001b[0;32m    208\u001b[0m     \u001b[39mself\u001b[39m\u001b[39m.\u001b[39m__model_loaded \u001b[39m=\u001b[39m \u001b[39mFalse\u001b[39;00m\n",
      "File \u001b[1;32mc:\\Users\\apabh\\AppData\\Local\\Programs\\Python\\Python310\\lib\\site-packages\\imageai\\backend_check\\model_extension.py:5\u001b[0m, in \u001b[0;36mextension_check\u001b[1;34m(file_path)\u001b[0m\n\u001b[0;32m      3\u001b[0m \u001b[39mdef\u001b[39;00m \u001b[39mextension_check\u001b[39m(file_path: \u001b[39mstr\u001b[39m):\n\u001b[0;32m      4\u001b[0m     \u001b[39mif\u001b[39;00m file_path\u001b[39m.\u001b[39mendswith(\u001b[39m\"\u001b[39m\u001b[39m.h5\u001b[39m\u001b[39m\"\u001b[39m):\n\u001b[1;32m----> 5\u001b[0m         \u001b[39mraise\u001b[39;00m \u001b[39mRuntimeError\u001b[39;00m(\u001b[39m\"\u001b[39m\u001b[39mYou are trying to use a Tensorflow model with ImageAI. ImageAI now uses PyTorch as backed as from version 3.0.2 . If you want to use the Tensorflow models or a customly trained \u001b[39m\u001b[39m'\u001b[39m\u001b[39m.h5\u001b[39m\u001b[39m'\u001b[39m\u001b[39m model, install ImageAI 2.1.6 or earlier. To use the latest Pytorch models, see the documentation in https://imageai.readthedocs.io/\u001b[39m\u001b[39m\"\u001b[39m)\n\u001b[0;32m      6\u001b[0m     \u001b[39melif\u001b[39;00m file_path\u001b[39m.\u001b[39mendswith(\u001b[39m\"\u001b[39m\u001b[39m.pt\u001b[39m\u001b[39m\"\u001b[39m) \u001b[39m==\u001b[39m \u001b[39mFalse\u001b[39;00m \u001b[39mand\u001b[39;00m file_path\u001b[39m.\u001b[39mendswith(\u001b[39m\"\u001b[39m\u001b[39m.pth\u001b[39m\u001b[39m\"\u001b[39m) \u001b[39m==\u001b[39m \u001b[39mFalse\u001b[39;00m:\n\u001b[0;32m      7\u001b[0m         \u001b[39mraise\u001b[39;00m \u001b[39mValueError\u001b[39;00m(\u001b[39mf\u001b[39m\u001b[39m\"\u001b[39m\u001b[39mInvalid model file \u001b[39m\u001b[39m{\u001b[39;00mos\u001b[39m.\u001b[39mpath\u001b[39m.\u001b[39mbasename(file_path)\u001b[39m}\u001b[39;00m\u001b[39m. Please parse in a \u001b[39m\u001b[39m'\u001b[39m\u001b[39m.pt\u001b[39m\u001b[39m'\u001b[39m\u001b[39m and \u001b[39m\u001b[39m'\u001b[39m\u001b[39m.pth\u001b[39m\u001b[39m'\u001b[39m\u001b[39m model file.\u001b[39m\u001b[39m\"\u001b[39m)\n",
      "\u001b[1;31mRuntimeError\u001b[0m: You are trying to use a Tensorflow model with ImageAI. ImageAI now uses PyTorch as backed as from version 3.0.2 . If you want to use the Tensorflow models or a customly trained '.h5' model, install ImageAI 2.1.6 or earlier. To use the latest Pytorch models, see the documentation in https://imageai.readthedocs.io/"
     ]
    }
   ],
   "source": [
    "\n",
    "from imageai.Detection import ObjectDetection\n",
    "import os\n",
    "\n",
    "current_path = os.getcwd()\n",
    "detector = ObjectDetection()\n",
    "detector.setModelTypeAsRetinaNet()\n",
    "detector.setModelPath(os.path.join(current_path,\"trained_models/model-0.8748-(h-det).h5\"))\n",
    "detector.loadModel()\n",
    "detections = detector.detectObjectsFromImage(input_image=os.path.join(current_path , \"test/boar.jpg\"), output_image_path=os.path.join(current_path , \"imagenew.jpg\"))\n",
    "\n",
    "for eachObject in detections:\n",
    "    print(eachObject)\n"
   ]
  }
 ],
 "metadata": {
  "kernelspec": {
   "display_name": "Python 3",
   "language": "python",
   "name": "python3"
  },
  "language_info": {
   "codemirror_mode": {
    "name": "ipython",
    "version": 3
   },
   "file_extension": ".py",
   "mimetype": "text/x-python",
   "name": "python",
   "nbconvert_exporter": "python",
   "pygments_lexer": "ipython3",
   "version": "3.10.0"
  },
  "orig_nbformat": 4,
  "vscode": {
   "interpreter": {
    "hash": "dd25f48af7434f441074c103d33cc955d756c89140f9533c523cd1385ae56b15"
   }
  }
 },
 "nbformat": 4,
 "nbformat_minor": 2
}
